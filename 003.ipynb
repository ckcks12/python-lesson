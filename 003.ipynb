{
 "cells": [
  {
   "cell_type": "markdown",
   "metadata": {
    "collapsed": true,
    "pycharm": {
     "name": "#%% md\n"
    }
   },
   "source": [
    "# 파이썬 기초 003\n",
    "\n",
    "### 다루는 내용\n",
    "- 웹 원리\n",
    "- HTML/CSS/JS\n",
    "- 검색엔진\n",
    "- 셀레니움\n",
    "\n",
    "웹 홈페이지는 어떤 원리일까요?\n",
    "\n",
    "코로나 바이러스 현황 홈페이지에 들어갈 때 어떤 일이 벌이지는지 간단하게 알아볼게요.\n",
    "\n",
    "![](https://i.imgur.com/0ci9XaT.png)\n",
    "\n",
    "우리가 크롬 창에서 주소를 적고 엔터를 쳤을 때 크롬은 서버에 연결됩니다.\n",
    "\n",
    "![](https://i.imgur.com/3a7ltti.png)\n",
    "\n",
    "그리고 서버에서는 `index.html` 라는 파일을 보냅니다.\n",
    "\n",
    "![](https://i.imgur.com/wlqNP82.png)\n",
    "\n",
    "HTML 파일의 내용을 한국어로 보면 이렇습니다.\n",
    "\n",
    "![](https://i.imgur.com/rlS3IWH.png)\n",
    "\n",
    "HTML 언어로는 이렇게 생겼어요.\n",
    "\n",
    "![](https://i.imgur.com/RYW9zMl.png)\n",
    "\n",
    "그럼 홈페이지의 그림이나 이런건 어디에 있냐구요?\n",
    "\n",
    "![](https://i.imgur.com/Sn9by2g.png)\n",
    "\n",
    "이렇게 이미지 라는 태그를 통해서 가져옵니다.\n",
    "\n",
    "![](https://i.imgur.com/JL72dOx.png)\n",
    "\n",
    "마찬가지로 CSS/JS 파일들도 이렇게 가져옵니다.\n",
    "\n",
    "![](https://i.imgur.com/ANf8ncx.png)\n",
    "\n",
    "검색엔진은 다만 HTML 만 보게 됩니다.\n",
    "\n",
    "이미지가 이쁜지, 적절한지 몰라요.\n",
    "\n",
    "글씨크기가 적당한지, 가독성이 어떤지.\n",
    "\n",
    "움직이는 메뉴가 사용하기 편리한지 전혀 몰라요.\n",
    "\n",
    "(물론 요새 발전한 검색엔진은 조금 더 다양한 것을 보긴 합니다만 기초는 동일합니다.)\n",
    "\n",
    "사람과의 관계에서 첫인상이 매우 중요하듯 검색엔진에게도 HTML 이 매우 중요합니다.\n",
    "\n",
    "따라서 HTML 을 잘 다듬어 주어야 해요. 어떻게 다듬을 수 있을까요?\n",
    "\n",
    "1. HTML 태그 짝 맞추기\n",
    "\n",
    "```html\n",
    "<h1>안녕하세요</h1> <!-- 제 짝 맞춘 태그 -->\n",
    "<h2>감사합니다 <!-- 닫힘이 없는 태그 -->\n",
    "<h3>반갑습니다</h4> <!-- 짝이 다른 태그 -->\n",
    "```\n",
    "\n",
    "2. 표준에 맞춘 태그 맞추기\n",
    "\n",
    "```html\n",
    "<gif-video></gif-video> <!-- 어떤 태그들은 특정 브라우저 전용(크롬은 되고 익스플로러는 안되고) 일 수 있습니다 -->\n",
    "```\n",
    "\n",
    "3. 접근성 높여주기 (ARIA)\n",
    "\n",
    "```html\n",
    "<a href=\"https://naver.com\">네이버</a>\n",
    "```\n",
    "\n",
    "물론 위 태그는 잘못된 태그가 아니에요.\n",
    "\n",
    "제 짝도 있고 표준 태그이기도 해요.\n",
    "\n",
    "다만 예를 들면 시각장애인을 위한 설명문이 없는 점?\n",
    "\n",
    "```html\n",
    "<a href=\"https://naver.com\" alt=\"네이버 링크\" role=\"contentinfo\">네이버</a>\n",
    "```\n",
    "\n",
    "더 자세한 내용은 [MDN ARIA](https://developer.mozilla.org/en-US/docs/Web/Accessibility/ARIA) 에서 찾아보실 수 있어요."
   ]
  },
  {
   "cell_type": "markdown",
   "source": [
    "자 이번엔 크롬을 조종해서 원하는 데이터를 마음껏 가져와 볼게요.\n",
    "\n",
    "우선\n",
    "\n",
    "\n"
   ],
   "metadata": {
    "collapsed": false,
    "pycharm": {
     "name": "#%% md\n"
    }
   }
  }
 ],
 "metadata": {
  "kernelspec": {
   "display_name": "Python 3",
   "language": "python",
   "name": "python3"
  },
  "language_info": {
   "codemirror_mode": {
    "name": "ipython",
    "version": 2
   },
   "file_extension": ".py",
   "mimetype": "text/x-python",
   "name": "python",
   "nbconvert_exporter": "python",
   "pygments_lexer": "ipython2",
   "version": "2.7.6"
  }
 },
 "nbformat": 4,
 "nbformat_minor": 0
}