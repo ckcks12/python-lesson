{
 "cells": [
  {
   "cell_type": "markdown",
   "metadata": {
    "collapsed": true,
    "pycharm": {
     "name": "#%% md\n"
    }
   },
   "source": [
    "# 파이썬 기초 003\n",
    "\n",
    "### 다루는 내용\n",
    "- 웹 원리\n",
    "- HTML/CSS/JS\n",
    "- 검색엔진\n",
    "- 셀레니움\n",
    "\n",
    "웹 홈페이지는 어떤 원리일까요?\n",
    "\n",
    "코로나 바이러스 현황 홈페이지에 들어갈 때 어떤 일이 벌이지는지 간단하게 알아볼게요.\n",
    "\n",
    "![](https://i.imgur.com/0ci9XaT.png)\n",
    "\n",
    "우리가 크롬 창에서 주소를 적고 엔터를 쳤을 때 크롬은 서버에 연결됩니다.\n",
    "\n",
    "![](https://i.imgur.com/3a7ltti.png)\n",
    "\n",
    "그리고 서버에서는 `index.html` 라는 파일을 보냅니다.\n",
    "\n",
    "![](https://i.imgur.com/wlqNP82.png)\n",
    "\n",
    "HTML 파일의 내용을 한국어로 보면 이렇습니다.\n",
    "\n",
    "![](https://i.imgur.com/rlS3IWH.png)\n",
    "\n",
    "HTML 언어로는 이렇게 생겼어요.\n",
    "\n",
    "![](https://i.imgur.com/RYW9zMl.png)\n",
    "\n",
    "그럼 홈페이지의 그림이나 이런건 어디에 있냐구요?\n",
    "\n",
    "![](https://i.imgur.com/Sn9by2g.png)\n",
    "\n",
    "이렇게 이미지 라는 태그를 통해서 가져옵니다.\n",
    "\n",
    "![](https://i.imgur.com/JL72dOx.png)\n",
    "\n",
    "마찬가지로 CSS/JS 파일들도 이렇게 가져옵니다.\n",
    "\n",
    "![](https://i.imgur.com/ANf8ncx.png)\n",
    "\n",
    "검색엔진은 다만 HTML 만 보게 됩니다.\n",
    "\n",
    "이미지가 이쁜지, 적절한지 몰라요.\n",
    "\n",
    "글씨크기가 적당한지, 가독성이 어떤지.\n",
    "\n",
    "움직이는 메뉴가 사용하기 편리한지 전혀 몰라요.\n",
    "\n",
    "(물론 요새 발전한 검색엔진은 조금 더 다양한 것을 보긴 합니다만 기초는 동일합니다.)\n",
    "\n",
    "사람과의 관계에서 첫인상이 매우 중요하듯 검색엔진에게도 HTML 이 매우 중요합니다.\n",
    "\n",
    "따라서 HTML 을 잘 다듬어 주어야 해요. 어떻게 다듬을 수 있을까요?\n",
    "\n",
    "1) HTML 태그 짝 맞추기\n",
    "\n",
    "```html\n",
    "<h1>안녕하세요</h1> <!-- 제 짝 맞춘 태그 -->\n",
    "<h2>감사합니다 <!-- 닫힘이 없는 태그 -->\n",
    "<h3>반갑습니다</h4> <!-- 짝이 다른 태그 -->\n",
    "```\n",
    "\n",
    "2) 표준에 맞춘 태그 맞추기\n",
    "\n",
    "```html\n",
    "<gif-video></gif-video> <!-- 어떤 태그들은 특정 브라우저 전용(크롬은 되고 익스플로러는 안되고) 일 수 있습니다 -->\n",
    "<video></video> <!-- 위의 태그 대신 이 태그를 써야합니다. -->\n",
    "```\n",
    "\n",
    "3) 접근성 높여주기 (ARIA)\n",
    "\n",
    "```html\n",
    "<a href=\"https://naver.com\">네이버</a>\n",
    "```\n",
    "\n",
    "물론 위 태그는 잘못된 태그가 아니에요.\n",
    "\n",
    "제 짝도 있고 표준 태그이기도 해요.\n",
    "\n",
    "다만 예를 들면 시각장애인을 위한 설명문이 없는 점?\n",
    "\n",
    "```html\n",
    "<a href=\"https://naver.com\" alt=\"네이버 링크\" role=\"contentinfo\">네이버</a>\n",
    "```\n",
    "\n",
    "더 자세한 내용은 [MDN ARIA](https://developer.mozilla.org/en-US/docs/Web/Accessibility/ARIA) 에서 찾아보실 수 있어요."
   ]
  },
  {
   "cell_type": "markdown",
   "metadata": {
    "pycharm": {
     "name": "#%% md\n"
    }
   },
   "source": [
    "자 이번엔 크롬을 조종해서 원하는 데이터를 마음껏 가져와 볼게요.\n",
    "\n",
    "우선 우리는 크롬을 조종하기 위해 셀레니움(Selenium) 이라는 라이브러리를 사용할 거에요.\n",
    "\n",
    "소스를 먼저 간단하게 볼게요."
   ]
  },
  {
   "cell_type": "code",
   "execution_count": 1,
   "metadata": {
    "pycharm": {
     "name": "#%%\n"
    }
   },
   "outputs": [
    {
     "ename": "WebDriverException",
     "evalue": "Message: 'chromedriver' executable needs to be in PATH. Please see https://sites.google.com/a/chromium.org/chromedriver/home\n",
     "output_type": "error",
     "traceback": [
      "\u001B[0;31m---------------------------------------------------------------------------\u001B[0m",
      "\u001B[0;31mFileNotFoundError\u001B[0m                         Traceback (most recent call last)",
      "\u001B[0;32m/usr/local/lib/python3.7/site-packages/selenium/webdriver/common/service.py\u001B[0m in \u001B[0;36mstart\u001B[0;34m(self)\u001B[0m\n\u001B[1;32m     75\u001B[0m                                             \u001B[0mstderr\u001B[0m\u001B[0;34m=\u001B[0m\u001B[0mself\u001B[0m\u001B[0;34m.\u001B[0m\u001B[0mlog_file\u001B[0m\u001B[0;34m,\u001B[0m\u001B[0;34m\u001B[0m\u001B[0;34m\u001B[0m\u001B[0m\n\u001B[0;32m---> 76\u001B[0;31m                                             stdin=PIPE)\n\u001B[0m\u001B[1;32m     77\u001B[0m         \u001B[0;32mexcept\u001B[0m \u001B[0mTypeError\u001B[0m\u001B[0;34m:\u001B[0m\u001B[0;34m\u001B[0m\u001B[0;34m\u001B[0m\u001B[0m\n",
      "\u001B[0;32m/usr/local/Cellar/python/3.7.7/Frameworks/Python.framework/Versions/3.7/lib/python3.7/subprocess.py\u001B[0m in \u001B[0;36m__init__\u001B[0;34m(self, args, bufsize, executable, stdin, stdout, stderr, preexec_fn, close_fds, shell, cwd, env, universal_newlines, startupinfo, creationflags, restore_signals, start_new_session, pass_fds, encoding, errors, text)\u001B[0m\n\u001B[1;32m    799\u001B[0m                                 \u001B[0merrread\u001B[0m\u001B[0;34m,\u001B[0m \u001B[0merrwrite\u001B[0m\u001B[0;34m,\u001B[0m\u001B[0;34m\u001B[0m\u001B[0;34m\u001B[0m\u001B[0m\n\u001B[0;32m--> 800\u001B[0;31m                                 restore_signals, start_new_session)\n\u001B[0m\u001B[1;32m    801\u001B[0m         \u001B[0;32mexcept\u001B[0m\u001B[0;34m:\u001B[0m\u001B[0;34m\u001B[0m\u001B[0;34m\u001B[0m\u001B[0m\n",
      "\u001B[0;32m/usr/local/Cellar/python/3.7.7/Frameworks/Python.framework/Versions/3.7/lib/python3.7/subprocess.py\u001B[0m in \u001B[0;36m_execute_child\u001B[0;34m(self, args, executable, preexec_fn, close_fds, pass_fds, cwd, env, startupinfo, creationflags, shell, p2cread, p2cwrite, c2pread, c2pwrite, errread, errwrite, restore_signals, start_new_session)\u001B[0m\n\u001B[1;32m   1550\u001B[0m                             \u001B[0merr_msg\u001B[0m \u001B[0;34m+=\u001B[0m \u001B[0;34m': '\u001B[0m \u001B[0;34m+\u001B[0m \u001B[0mrepr\u001B[0m\u001B[0;34m(\u001B[0m\u001B[0merr_filename\u001B[0m\u001B[0;34m)\u001B[0m\u001B[0;34m\u001B[0m\u001B[0;34m\u001B[0m\u001B[0m\n\u001B[0;32m-> 1551\u001B[0;31m                     \u001B[0;32mraise\u001B[0m \u001B[0mchild_exception_type\u001B[0m\u001B[0;34m(\u001B[0m\u001B[0merrno_num\u001B[0m\u001B[0;34m,\u001B[0m \u001B[0merr_msg\u001B[0m\u001B[0;34m,\u001B[0m \u001B[0merr_filename\u001B[0m\u001B[0;34m)\u001B[0m\u001B[0;34m\u001B[0m\u001B[0;34m\u001B[0m\u001B[0m\n\u001B[0m\u001B[1;32m   1552\u001B[0m                 \u001B[0;32mraise\u001B[0m \u001B[0mchild_exception_type\u001B[0m\u001B[0;34m(\u001B[0m\u001B[0merr_msg\u001B[0m\u001B[0;34m)\u001B[0m\u001B[0;34m\u001B[0m\u001B[0;34m\u001B[0m\u001B[0m\n",
      "\u001B[0;31mFileNotFoundError\u001B[0m: [Errno 2] No such file or directory: 'chromedriver': 'chromedriver'",
      "\nDuring handling of the above exception, another exception occurred:\n",
      "\u001B[0;31mWebDriverException\u001B[0m                        Traceback (most recent call last)",
      "\u001B[0;32m<ipython-input-1-457f34c14283>\u001B[0m in \u001B[0;36m<module>\u001B[0;34m\u001B[0m\n\u001B[1;32m      1\u001B[0m \u001B[0;32mfrom\u001B[0m \u001B[0mselenium\u001B[0m \u001B[0;32mimport\u001B[0m \u001B[0mwebdriver\u001B[0m\u001B[0;34m\u001B[0m\u001B[0;34m\u001B[0m\u001B[0m\n\u001B[0;32m----> 2\u001B[0;31m \u001B[0mdriver\u001B[0m \u001B[0;34m=\u001B[0m \u001B[0mwebdriver\u001B[0m\u001B[0;34m.\u001B[0m\u001B[0mChrome\u001B[0m\u001B[0;34m(\u001B[0m\u001B[0;34m)\u001B[0m\u001B[0;34m\u001B[0m\u001B[0;34m\u001B[0m\u001B[0m\n\u001B[0m\u001B[1;32m      3\u001B[0m \u001B[0mdriver\u001B[0m\u001B[0;34m.\u001B[0m\u001B[0mget\u001B[0m\u001B[0;34m(\u001B[0m\u001B[0;34m'https://coronaboard.kr'\u001B[0m\u001B[0;34m)\u001B[0m\u001B[0;34m\u001B[0m\u001B[0;34m\u001B[0m\u001B[0m\n\u001B[1;32m      4\u001B[0m \u001B[0mdriver\u001B[0m\u001B[0;34m.\u001B[0m\u001B[0mclose\u001B[0m\u001B[0;34m(\u001B[0m\u001B[0;34m)\u001B[0m\u001B[0;34m\u001B[0m\u001B[0;34m\u001B[0m\u001B[0m\n\u001B[1;32m      5\u001B[0m \u001B[0;34m\u001B[0m\u001B[0m\n",
      "\u001B[0;32m/usr/local/lib/python3.7/site-packages/selenium/webdriver/chrome/webdriver.py\u001B[0m in \u001B[0;36m__init__\u001B[0;34m(self, executable_path, port, options, service_args, desired_capabilities, service_log_path, chrome_options, keep_alive)\u001B[0m\n\u001B[1;32m     71\u001B[0m             \u001B[0mservice_args\u001B[0m\u001B[0;34m=\u001B[0m\u001B[0mservice_args\u001B[0m\u001B[0;34m,\u001B[0m\u001B[0;34m\u001B[0m\u001B[0;34m\u001B[0m\u001B[0m\n\u001B[1;32m     72\u001B[0m             log_path=service_log_path)\n\u001B[0;32m---> 73\u001B[0;31m         \u001B[0mself\u001B[0m\u001B[0;34m.\u001B[0m\u001B[0mservice\u001B[0m\u001B[0;34m.\u001B[0m\u001B[0mstart\u001B[0m\u001B[0;34m(\u001B[0m\u001B[0;34m)\u001B[0m\u001B[0;34m\u001B[0m\u001B[0;34m\u001B[0m\u001B[0m\n\u001B[0m\u001B[1;32m     74\u001B[0m \u001B[0;34m\u001B[0m\u001B[0m\n\u001B[1;32m     75\u001B[0m         \u001B[0;32mtry\u001B[0m\u001B[0;34m:\u001B[0m\u001B[0;34m\u001B[0m\u001B[0;34m\u001B[0m\u001B[0m\n",
      "\u001B[0;32m/usr/local/lib/python3.7/site-packages/selenium/webdriver/common/service.py\u001B[0m in \u001B[0;36mstart\u001B[0;34m(self)\u001B[0m\n\u001B[1;32m     81\u001B[0m                 raise WebDriverException(\n\u001B[1;32m     82\u001B[0m                     \"'%s' executable needs to be in PATH. %s\" % (\n\u001B[0;32m---> 83\u001B[0;31m                         os.path.basename(self.path), self.start_error_message)\n\u001B[0m\u001B[1;32m     84\u001B[0m                 )\n\u001B[1;32m     85\u001B[0m             \u001B[0;32melif\u001B[0m \u001B[0merr\u001B[0m\u001B[0;34m.\u001B[0m\u001B[0merrno\u001B[0m \u001B[0;34m==\u001B[0m \u001B[0merrno\u001B[0m\u001B[0;34m.\u001B[0m\u001B[0mEACCES\u001B[0m\u001B[0;34m:\u001B[0m\u001B[0;34m\u001B[0m\u001B[0;34m\u001B[0m\u001B[0m\n",
      "\u001B[0;31mWebDriverException\u001B[0m: Message: 'chromedriver' executable needs to be in PATH. Please see https://sites.google.com/a/chromium.org/chromedriver/home\n"
     ]
    }
   ],
   "source": [
    "from selenium import webdriver\n",
    "driver = webdriver.Chrome()\n",
    "driver.get('https://coronaboard.kr')\n",
    "driver.close()"
   ]
  },
  {
   "cell_type": "markdown",
   "metadata": {
    "pycharm": {
     "name": "#%% md\n"
    }
   },
   "source": [
    "아마 이런 오류가 뜨실 거에요.\n",
    "\n",
    "```bash\n",
    "/usr/local/bin/python3.7 /Users/danny/dev/python-lesson/test/003.py\n",
    "Traceback (most recent call last):\n",
    "  File \"/usr/local/lib/python3.7/site-packages/selenium/webdriver/common/service.py\", line 76, in start\n",
    "    stdin=PIPE)\n",
    "  File \"/usr/local/Cellar/python/3.7.7/Frameworks/Python.framework/Versions/3.7/lib/python3.7/subprocess.py\", line 800, in __init__\n",
    "    restore_signals, start_new_session)\n",
    "  File \"/usr/local/Cellar/python/3.7.7/Frameworks/Python.framework/Versions/3.7/lib/python3.7/subprocess.py\", line 1551, in _execute_child\n",
    "    raise child_exception_type(errno_num, err_msg, err_filename)\n",
    "FileNotFoundError: [Errno 2] No such file or directory: 'chromedriver': 'chromedriver'\n",
    "\n",
    "During handling of the above exception, another exception occurred:\n",
    "\n",
    "Traceback (most recent call last):\n",
    "  File \"/Users/danny/dev/python-lesson/test/003.py\", line 21, in <module>\n",
    "    driver = webdriver.Chrome()\n",
    "  File \"/usr/local/lib/python3.7/site-packages/selenium/webdriver/chrome/webdriver.py\", line 73, in __init__\n",
    "    self.service.start()\n",
    "  File \"/usr/local/lib/python3.7/site-packages/selenium/webdriver/common/service.py\", line 83, in start\n",
    "    os.path.basename(self.path), self.start_error_message)\n",
    "selenium.common.exceptions.WebDriverException: Message: 'chromedriver' executable needs to be in PATH. Please see https://sites.google.com/a/chromium.org/chromedriver/home\n",
    "\n",
    "\n",
    "Process finished with exit code 1\n",
    "```\n",
    "\n",
    "크롬 드라이버(chrome driver) 가 없다고 오류가 나고 있어요.\n",
    "\n",
    "사실 우리는 크롬을 직접 조종하지 않아요.\n",
    "\n",
    "![](https://i.imgur.com/UGCQsSN.png)\n",
    "\n",
    "위 그림과 같이 중간에 셀레니움 웹드라이버(Selenium Webdriver) 가 필요해요.\n",
    "\n",
    "우리는 셀레니움 웹드라이버를 조종하면 웹드라이버가 크롬을 조종하죠.\n",
    "\n",
    "크롬을 위해서는 크롬 드라이버(Chrome driver)\n",
    "\n",
    "사파리를 위해서는 사파리 드라이버(Safari driver) 등이 필요하죠.\n",
    "\n",
    "이건 직접 인터넷에가서 다운로드 받으셔야해요. 설치할 필요는 없구요.\n",
    "\n",
    "[https://selenium-python.readthedocs.io/installation.html#downloading-python-bindings-for-selenium](https://selenium-python.readthedocs.io/installation.html#downloading-python-bindings-for-selenium)\n",
    "\n",
    "위 링크에 접속하신 뒤에\n",
    "\n",
    "![](https://i.imgur.com/W1FvfPc.png)\n",
    "\n",
    " 1.3. Drivers 에서 자신에게 맞는 드라이버를 클릭해주세요.\n",
    "\n",
    "잠깐, 버전 확인은 자신의 크롬에서 확인하실 수 있어요.\n",
    "\n",
    "![](https://i.imgur.com/p7MJmB7.png)\n",
    "![](https://i.imgur.com/TnaxGNg.png)\n",
    "\n",
    "제 버전은 81이군요.\n",
    "\n",
    "![](https://i.imgur.com/2x90KMB.png)\n",
    "\n",
    "이후 나오는 곳에서 자신의 브라우저 버전에 맞는 드라이버를 설치해주세요.\n",
    "\n",
    "대게의 경우 크롬은 항상 최신버전입니다. 제일 위에 것을 클릭해 다운로드 받아주세요.\n",
    "\n",
    "![](https://i.imgur.com/1VkC2Tt.png)\n",
    "\n",
    "이후 압축을 꼭 풀어주세요.\n",
    "\n",
    "다운로드 받은 위치를 잘 기억해주세요.\n",
    "\n",
    "아니면 아싸리 C드라이브나 바탕화면에 다운로드 받아주세요.\n",
    "\n",
    "다시 소스로 돌아와 아래와 같이 드라이버 위치를 넣어줍시다."
   ]
  },
  {
   "cell_type": "code",
   "execution_count": null,
   "metadata": {
    "pycharm": {
     "name": "#%%\n"
    }
   },
   "outputs": [],
   "source": [
    "from selenium import webdriver\n",
    "driver = webdriver.Chrome('/Users/danny/Downloads/driver/chromedriver')\n",
    "driver.get('https://coronaboard.kr')\n",
    "driver.close()"
   ]
  },
  {
   "cell_type": "markdown",
   "metadata": {
    "pycharm": {
     "name": "#%% md\n"
    }
   },
   "source": [
    "잠깐 접속되었다가 꺼졌죠? 중간에 잠깐 잠자게 만들어서 지켜볼까요"
   ]
  },
  {
   "cell_type": "code",
   "execution_count": null,
   "metadata": {
    "pycharm": {
     "name": "#%%\n"
    }
   },
   "outputs": [],
   "source": [
    "from selenium import webdriver\n",
    "import time\n",
    "driver = webdriver.Chrome('/Users/danny/Downloads/driver/chromedriver')\n",
    "driver.get('https://coronaboard.kr')\n",
    "time.sleep(10) # 초 단위\n",
    "driver.close()"
   ]
  },
  {
   "cell_type": "markdown",
   "metadata": {
    "pycharm": {
     "name": "#%% md\n"
    }
   },
   "source": [
    "자 그럼 원하는 내용을 가져와볼까요?\n",
    "\n",
    "전세 격리해제 인원수를 가져와보도록 하죠.\n",
    "\n",
    "![](https://i.imgur.com/VVUpyHZ.png)\n",
    "\n",
    "소스는 아래와 같아요."
   ]
  },
  {
   "cell_type": "code",
   "execution_count": 2,
   "metadata": {
    "pycharm": {
     "name": "#%%\n"
    }
   },
   "outputs": [
    {
     "name": "stdout",
     "output_type": "stream",
     "text": [
      "1,760,609\n"
     ]
    }
   ],
   "source": [
    "from selenium import webdriver\n",
    "import time\n",
    "driver = webdriver.Chrome('/Users/danny/Downloads/driver/chromedriver')\n",
    "driver.get('https://coronaboard.kr')\n",
    "time.sleep(10)\n",
    "released = driver.find_element_by_css_selector('p.released.number')\n",
    "print(released.text)\n",
    "driver.close()"
   ]
  },
  {
   "cell_type": "markdown",
   "metadata": {
    "pycharm": {
     "name": "#%% md\n"
    }
   },
   "source": [
    "잘 출력 되었나요? 자, 딱 두 줄.\n",
    "\n",
    "정확히는 한 줄 만에 원하는 글자를 가져왔네요. 정말 신기하죠.\n",
    "\n",
    "driver 의 `find_element_by_css_selector` 라는 함수를 실행시키네요.\n",
    "\n",
    "넘겨주는 값으로는 `p.released.number` 를 주었구요.\n",
    "\n",
    "`find_element_by_css_selector` 라는 함수는\n",
    "\n",
    "css selector 를 기반으로 객체(element) 를 가져옵니다.\n",
    "\n",
    "css selector 가 궁금해지네요.\n",
    "\n",
    "css selector 의 자세한 정의는 뒤로 하고 간단히 말씀드리자면\n",
    "\n",
    "객체 주소 시스템 입니다.\n",
    "\n",
    "![](https://i.imgur.com/i4CkwPC.png)\n",
    "\n",
    "위 그림에서 보이는 모든 빨간 박스들이 다 고유 주소를 가지고 있습니다.\n",
    "\n",
    "css selector 는 아래와 같은 구조를 지닙니다.\n",
    "\n",
    "```css\n",
    "html:selector.class#id[attribute=value]\n",
    "\n",
    "```\n",
    "\n",
    "네 물론 아셔야 할 부분을 추려드렸지요. 아래와 같습니다.\n",
    "\n",
    "```css\n",
    "div\n",
    "```\n",
    "```html\n",
    "<div>가나다</div>\n",
    "```\n",
    "```css\n",
    "div.red\n",
    "/* red 클래스를 가진 div 태그 */\n",
    "```\n",
    "```html\n",
    "<div class=\"red\">가나다</div>\n",
    "```\n",
    "```css\n",
    "div.red.blue\n",
    "/* red, blue 클래스를 가진 div 태그 */\n",
    "```\n",
    "```html\n",
    "<div class=\"red blue\">가나다</div>\n",
    "```\n",
    "```css\n",
    "div#send\n",
    "/* send 아이디를 가진 div 태그 */\n",
    "```\n",
    "```html\n",
    "<div id=\"send\">가나다</div>\n",
    "```\n",
    "\n",
    "조금 어렵죠. 실전을 통해 보겠습니다.\n",
    "\n",
    "우리가 위에서 격리해제 인원수를 가져왔을때 썼던 css selector 는 아래와 같아요.\n",
    "\n",
    "```css\n",
    "p.released.number\n",
    "```\n",
    "\n",
    "이 뜻은 p 라는 html 태그가 released 와 number 라는 클래스를 가지고 있는 것 이거든요.\n",
    "\n",
    "한번 실제로 그렇게 가지는지 보도록하죠.\n",
    "\n",
    "우선 크롬을 켜서 coronaboard.kr 에 접속합니다.\n",
    "\n",
    "그리고 Ctrl + Shift + C 를 눌러보세요.\n",
    "\n",
    "그럼 이제 개발자도구가 열리면서 각 객체를 분석하게 될 수 있는데요.\n",
    "\n",
    "그때 격리해제에 마우스를 가져다 대보세요.\n",
    "\n",
    "![](https://i.imgur.com/Htmtkmc.png)\n",
    "\n",
    "네 이렇게 한번에 css selector 를 가져올 수 있네요.\n",
    "\n",
    "이 상태에서 클릭까지 해보시면 html 소스로 이동합니다.\n",
    "\n",
    "![](https://i.imgur.com/BHop1Fr.png)\n",
    "\n",
    "실제로 p html 태그에 released 와 number 클래스가 있네요.\n",
    "\n",
    "좋습니다. 이제 이렇게 웹페이지에 있는 원하는 객체를\n",
    "\n",
    "css selector 로 찾아낼 수 있게 되었습니다.\n",
    "\n",
    "자 그럼 이제 좀 응용해서\n",
    "\n",
    "이번에는 네이버에서 뉴스 목록을 가져와볼까요?\n",
    "\n",
    "네이버 뉴스 목록의 css selector 가 필요하겠네요.\n",
    "\n",
    "그럼 우선 크롬으로 접속해서 Ctrl + Shift + C 로 찾아내야겠네요.\n",
    "\n",
    "[https://news.naver.com/main/ranking/popularDay.nhn](https://news.naver.com/main/ranking/popularDay.nhn)\n",
    "\n",
    "위 사이트로 접속 하신 뒤 우측에 가장 많이 본 뉴스를 Ctrl + Shift + C 로 볼까요\n",
    "\n",
    "![](https://i.imgur.com/D1fSe6o.png)\n",
    "![](https://i.imgur.com/EE9STdE.png)\n",
    "![](https://i.imgur.com/ZOtNojN.png)\n",
    "\n",
    "자 css selector 를 뽑아볼까요?\n",
    "\n",
    "보니 `nclicks(rig.rankpol)` 이란 클래스가 있네요.\n",
    "\n",
    "이걸 테스트하려면 개발자도구에서 바로 옆에 콘솔(Console)에 가셔서\n",
    "\n",
    "```js\n",
    "document.querySelectorAll('.nclicks(rig.rankpol)')\n",
    "```\n",
    "\n",
    "![](https://i.imgur.com/JaCHLic.png)\n",
    "\n",
    "아 무슨 오류가 뜨네요. 제대로 된 css selector 가 아니라네요.\n",
    "\n",
    "이걸 해결할 방법은 더 있겠지만, 우리는 좀더 실용적인 방법으로 가보죠.\n",
    "\n",
    "html 태그들은 구조로 되어있어요.\n",
    "\n",
    "어떤 것 아래에 어떤 것. 또 그 아래의 어떤 것.\n",
    "\n",
    "따라서 그렇게 구조적(hierarchy) 표현을 css selector 에서는 띄어쓰기로 해요.\n",
    "\n",
    "```css\n",
    "div span a\n",
    "```\n",
    "\n",
    "```html\n",
    "<div>\n",
    "    <span>\n",
    "        <a>가나다</a>\n",
    "    </span>\n",
    "</div>\n",
    "```\n",
    "\n",
    "자 다시 뉴스 검색 html 소스를 볼까요.\n",
    "\n",
    "![](https://i.imgur.com/ZOtNojN.png)\n",
    "\n",
    "이제 눈에 익으시면 이런 구조가 한번에 눈에 띄실거에요.\n",
    "\n",
    "```html\n",
    "<ul class=\"section_list_ranking\">\n",
    "    <li>\n",
    "        <span></span>\n",
    "        <a>기사제목</a>\n",
    "    <li>\n",
    "    <li></li>\n",
    "    <li></li>\n",
    "</ul>\n",
    "```\n",
    "\n",
    "그럼 css selector 를 만들어볼까요.\n",
    "\n",
    "```css\n",
    "ul.section_list_ranking li a\n",
    "```\n",
    "\n",
    "크롬 개발자도구 콘솔에 가서 테스트해볼까요.\n",
    "\n",
    "```js\n",
    "document.querySelectorAll('ul.section_list_ranking li a')\n",
    "```\n",
    "\n",
    "![](https://i.imgur.com/9WufXol.png)\n",
    "\n",
    "70개나 나오네요.\n",
    "\n",
    "한번 첫번째꺼를 뽑아서 무슨 내용이 있나 볼까요?\n",
    "\n",
    "우선 첫번째는 컴퓨터에서 0 인거 잊지 마시구요,\n",
    "\n",
    "안의 내용은 `innerText` 로 알 수 있어요.\n",
    "\n",
    "```js\n",
    "document.querySelectorAll('ul.section_list_ranking li a')[0].innerText\n",
    "```\n",
    "\n",
    "![](https://i.imgur.com/Cizszlv.png)\n",
    "\n",
    "오 잘 나왔네요.\n",
    "\n",
    "자 이제 파이썬 코드로 만들어볼까요."
   ]
  },
  {
   "cell_type": "code",
   "execution_count": 3,
   "metadata": {
    "pycharm": {
     "name": "#%%\n"
    }
   },
   "outputs": [
    {
     "name": "stdout",
     "output_type": "stream",
     "text": [
      "홍준표, 진중권에 역공 \"X개 눈에는 X개만 보여\"\n"
     ]
    }
   ],
   "source": [
    "from selenium import webdriver\n",
    "import time\n",
    "driver = webdriver.Chrome('/Users/danny/Downloads/driver/chromedriver')\n",
    "driver.get('https://news.naver.com/main/ranking/popularDay.nhn')\n",
    "time.sleep(10)\n",
    "released = driver.find_element_by_css_selector('ul.section_list_ranking li a')\n",
    "print(released.text)\n",
    "driver.close()"
   ]
  },
  {
   "cell_type": "markdown",
   "metadata": {
    "pycharm": {
     "name": "#%% md\n"
    }
   },
   "source": [
    "잘 나왔네요~\n",
    "\n",
    "아까 70개가 있었는데 이걸 다 가져올 순 없을까요?\n",
    "\n",
    "그래서 준비된 함수가 있습니다.\n",
    "\n",
    "```js\n",
    "find_element_by_css_selector()\n",
    "find_elements_by_css_selector()\n",
    "```\n",
    "\n",
    "차이점은 element -> elements 복수형이 되었어요.\n",
    "\n",
    "여러개를 가져오겠다는 거죠.\n",
    "\n",
    "우리는 여러개를 가져와서 for 문으로 배열을 돌리면 될 것 같아요."
   ]
  },
  {
   "cell_type": "code",
   "execution_count": 4,
   "metadata": {
    "pycharm": {
     "name": "#%%\n"
    }
   },
   "outputs": [
    {
     "name": "stdout",
     "output_type": "stream",
     "text": [
      "홍준표, 진중권에 역공 \"X개 눈에는 X개만 보여\"\n",
      "\"X개 눈엔 X개만 보인다\"…진중권 'X개'에 되받아친 홍준표\n",
      "민주당, '윤미향 펜션 술파티' 논란에도 \"친일 세력 공세\"\n",
      "통합당 '5·18 망언'사과…'40주년' 이틀 앞두고\n",
      "\"진중권은 좌파 부처님\" 홍준표, 'X개도 아니고' 비판에 맞대응\n",
      "민경욱 “검사, 우와 무서워! 라면 먹고 힘내야지”\n",
      "주호영 \"죄송한 마음\" 사과…5·18 망언 당사자는?\n",
      "홍준표, 진중권에 \"X개 눈에는 X개만 보여…그만 자중하라\"\n",
      "[여랑야랑]윤미향의 ‘이상한 사과’ / 사라진 보수 대선주자\n",
      "\"1980년 박근혜, 총선 출마 원했다\"…전두환도 지원\n"
     ]
    }
   ],
   "source": [
    "from selenium import webdriver\n",
    "import time\n",
    "driver = webdriver.Chrome('/Users/danny/Downloads/driver/chromedriver')\n",
    "driver.get('https://news.naver.com/main/ranking/popularDay.nhn')\n",
    "time.sleep(10)\n",
    "titles = driver.find_elements_by_css_selector('ul.section_list_ranking li a')\n",
    "for title in titles[:10]: # 열개까지\n",
    "    print(title.text)\n",
    "driver.close()\n"
   ]
  },
  {
   "cell_type": "markdown",
   "metadata": {
    "pycharm": {
     "name": "#%% md\n"
    }
   },
   "source": [
    "좋습니다, 이제 마지막으로 유투브 검색어 별 채널/구독자수를 가져와볼게요.\n",
    "\n",
    "이 예제는 정말 응용하기 좋은 예제라고 생각이 되네요.\n",
    "\n",
    "유투브도 일단 구글을 열어 html 분석을 해볼까요?\n",
    "\n",
    "[https://youtube.com](https://youtube.com)\n",
    "\n",
    "우선 우리는 검색을 해야하니 검색 입력칸을 클릭해서 거기에 키보드를 쳐야해요.\n",
    "\n",
    "검색 입력칸을 먼저 css selector 를 따내볼게요.\n",
    "\n",
    "![](https://i.imgur.com/2W4nlDb.png)\n",
    "\n",
    "```css\n",
    "input#search\n",
    "```\n",
    "\n",
    "바로 콘솔에서 테스트해볼게요.\n",
    "```js\n",
    "document.querySelectorAll('input#search')\n",
    "```\n",
    "\n",
    "![](https://i.imgur.com/D9KEBtg.png)\n",
    "\n",
    "자 그럼 검색어 치는 것을 파이썬 코드로 짜볼게요."
   ]
  },
  {
   "cell_type": "code",
   "execution_count": null,
   "metadata": {
    "pycharm": {
     "name": "#%%\n"
    }
   },
   "outputs": [],
   "source": [
    "from selenium import webdriver\n",
    "import time\n",
    "driver = webdriver.Chrome('/Users/danny/Downloads/driver/chromedriver')\n",
    "driver.get('https://youtube.com')\n",
    "time.sleep(3)\n",
    "search = driver.find_element_by_css_selector('input#search')\n",
    "search.send_keys('주식')\n",
    "time.sleep(3)\n",
    "driver.close()\n"
   ]
  },
  {
   "cell_type": "markdown",
   "metadata": {
    "pycharm": {
     "name": "#%% md\n"
    }
   },
   "source": [
    "![](https://i.imgur.com/8WyvGgm.png)\n",
    "\n",
    "잘 되네요!\n",
    "\n",
    "자 그럼 이제 검색을 하려면 검색버튼을 눌러야할까요?\n",
    "\n",
    "팁을 드리자면, 우리가 엔터쳐서 검색하듯 엔터를 입력시키면 돼요.\n",
    "\n",
    "컴퓨터에서 엔터는 좀 특별해요. \\n 이라고 치면 돼요."
   ]
  },
  {
   "cell_type": "code",
   "execution_count": null,
   "metadata": {
    "pycharm": {
     "name": "#%%\n"
    }
   },
   "outputs": [],
   "source": [
    "from selenium import webdriver\n",
    "import time\n",
    "driver = webdriver.Chrome('/Users/danny/Downloads/driver/chromedriver')\n",
    "driver.get('https://youtube.com')\n",
    "time.sleep(3)\n",
    "search = driver.find_element_by_css_selector('input#search')\n",
    "search.send_keys('주식\\n')\n",
    "time.sleep(3)\n",
    "driver.close()\n"
   ]
  },
  {
   "cell_type": "markdown",
   "metadata": {
    "pycharm": {
     "name": "#%% md\n"
    }
   },
   "source": [
    "이번엔 각 검색 결과에서 채널들을 클릭해볼까요?\n",
    "\n",
    "네 당연히 바로 html 분석해야해요.\n",
    "\n",
    "![](https://i.imgur.com/ZlXnKYc.png)\n",
    "![](https://i.imgur.com/OFH08UI.png)\n",
    "\n",
    "한 눈에 들어오는 건 없어보이네요.\n",
    "\n",
    "쉽지 않겠지만 천천히 그리고 자세히 보다보면 `ytd-channel-name` 클래스가 있네요.\n",
    "\n",
    "그럼 그렇게 해서 한번 콘솔에서 테스트해볼까요?\n",
    "\n",
    "```css\n",
    ".ytd-channel-name\n",
    "```\n",
    "\n",
    "```js\n",
    "document.querySelectorAll('.ytd-channel-name')[0].innerText\n",
    "```\n",
    "\n",
    "![](https://i.imgur.com/RW68KCc.png)\n",
    "\n",
    "흠 슈카월드? 하지만 우리는 연합인포맥스TV 가 나와야하거든요.\n",
    "\n",
    "![](https://i.imgur.com/wxdPBLn.png)\n",
    "\n",
    "아무래도 저 클래스를 가진 객체가 엄청많나봐요.\n",
    "\n",
    "이럴땐 더 **구체화** 시켜주어야해요.\n",
    "\n",
    "단순히 `대한빌딩` 이라고만 하면 전국에 있는 모든 대한빌딩이 다 검색되겠죠?\n",
    "\n",
    "대신에 `서울시 강남구 테헤란로 대한빌딩` 이라고 한다면?\n",
    "\n",
    "거의 정확하게 우리가 원하는 것을 찾아주듯 css selector 도 마찬가지에요.\n",
    "\n",
    "자, 그럼 더 위쪽으로 올라가보죠.\n",
    "\n",
    "![](https://i.imgur.com/SfzxHG0.png)\n",
    "\n",
    "마우스를 더 위로 올려가다보면 이런 큰 객체가 하나 있어요.\n",
    "\n",
    "우리는 이 객체 안에 있는 `ytd-channel-name` 을 가져오면 되잖아요?\n",
    "\n",
    "그래서 이렇게 css selector 를 만들어보아요.\n",
    "\n",
    "```css\n",
    ".ytd-video-renderer .ytd-channel-name\n",
    "```\n",
    "\n",
    "```js\n",
    "document.querySelectorAll('.ytd-video-renderer .ytd-channel-name')[0].innerText\n",
    "```\n",
    "\n",
    "![](https://i.imgur.com/M0lFomz.png)\n",
    "\n",
    "오! 잘나오네요.\n",
    "\n",
    "그런데 혹시나해서 첫번째말고 한 다섯번째 (배열로는 4) 를 넣어봤더니\n",
    "\n",
    "![](https://i.imgur.com/fxwlHgZ.png)\n",
    "\n",
    "음 뭔가 이상하네요. 다른 css selector 를 찾아야겠어요.\n",
    "\n",
    "아예 다른 css selector 를 구했어요.\n",
    "\n",
    "```css\n",
    "#channel-name a\n",
    "```\n",
    "\n",
    "```js\n",
    "document.querySelectorAll('#channel-name a')[0].innerText\n",
    "document.querySelectorAll('#channel-name a')[1].innerText\n",
    "document.querySelectorAll('#channel-name a')[2].innerText\n",
    "document.querySelectorAll('#channel-name a')[3].innerText\n",
    "document.querySelectorAll('#channel-name a')[4].innerText\n",
    "document.querySelectorAll('#channel-name a')[5].innerText\n",
    "```\n",
    "\n",
    "![](https://i.imgur.com/LVvs6Ie.png)\n",
    "\n",
    "이렇게 하니, 2개씩 연속으로 나오긴 하지만 잘 나오는 것 같네요.\n",
    "\n",
    "이런식으로 우리가 크롬으로 어떤 데이터를 가져올때 가장 중요한 것은 **css selector** 이에요.\n",
    "\n",
    "이 부분에 대해서 아직까지 아주 깔끔한 방법은 없어요.\n",
    "\n",
    "왜냐면 애초에 홈페이지 만드는 사람들이 css selector 를 참조하기 쉽게 만들지 않거든요~\n",
    "\n",
    "자, 이제 다음으로 이걸 클릭할거에요.\n",
    "\n",
    "클릭해야지 해당 채널의 구독자 수를 가져올 수 있잖아요?\n",
    "\n",
    "그런데 클릭은 사실 어렵지 않아서, 일단 다음 단계로 넘어가서 채널 화면에서 구독자수를 가져오기 위해\n",
    "\n",
    "해당 css selector 를 또 구해보도록 하죠.\n",
    "\n",
    "![](https://i.imgur.com/zrGl8Pr.png)\n",
    "![](https://i.imgur.com/UEEZHvc.png)\n",
    "\n",
    "자 보시면 # 으로시작하는 id 가 있죠?\n",
    "\n",
    "id 는 한 문서에서 **고유/유일** 한 것으로 약속되어 있어요.\n",
    "\n",
    "뭐 여러개 쓸 수 없는 것은 아닌데 그렇게 되면 잘못된 홈페이지에요.\n",
    "\n",
    "따라서 # 으로 시작하는 id 가 있다하면 css selector 는 그거 하나만 써도 돼요!\n",
    "\n",
    "엄청 편한... **심봤다!**\n",
    "\n",
    "```css\n",
    "#subscriber-count\n",
    "```\n",
    "\n",
    "```js\n",
    "document.querySelectorAll('#subscriber-count')[0].innerText\n",
    "```\n",
    "\n",
    "![](https://i.imgur.com/Yqq1sU8.png)\n",
    "\n",
    "자 이제 파이썬 코드로 정리해볼게요.\n",
    "\n",
    "우선 유튜브에 접속해서, 원하는 키워드로 검색하고\n",
    "\n",
    "채널명을 찾아 클릭해 들어가서 구독자 수를 가져오고\n",
    "\n",
    "그리고 스크린샷까지 찍어서 저장!"
   ]
  },
  {
   "cell_type": "code",
   "execution_count": null,
   "metadata": {
    "pycharm": {
     "name": "#%%\n"
    }
   },
   "outputs": [],
   "source": [
    "from selenium import webdriver\n",
    "import time\n",
    "driver = webdriver.Chrome('/Users/danny/Downloads/driver/chromedriver')\n",
    "driver.get('https://youtube.com')\n",
    "time.sleep(3)\n",
    "search = driver.find_element_by_css_selector('input#search')\n",
    "search.send_keys('주식\\n')\n",
    "time.sleep(3)\n",
    "\n",
    "for no in range(5):\n",
    "    channel = driver.find_elements_by_css_selector('#channel-name a')[no * 2] # 이부분 2배 하는 이유 주의\n",
    "    channel_text = channel.text\n",
    "    print(channel_text)\n",
    "    channel.click() # 이렇게 클릭 할 수 있어요\n",
    "    time.sleep(5)\n",
    "    subscriber = driver.find_element_by_css_selector('#subscriber-count')\n",
    "    print(subscriber.text)\n",
    "\n",
    "    driver.save_screenshot(channel_text + '.png') # 이렇게 스크린샷 저장할 수 있어요\n",
    "\n",
    "    driver.back() # 이렇게 뒤로가기 할 수 있어요\n",
    "    time.sleep(4)\n",
    "\n",
    "driver.close()"
   ]
  },
  {
   "cell_type": "markdown",
   "metadata": {
    "pycharm": {
     "name": "#%% md\n"
    }
   },
   "source": [
    "![](https://i.imgur.com/xoEv9HN.png)\n",
    "![](https://i.imgur.com/q2ANiUN.png)\n",
    "\n",
    "\n",
    "\n"
   ]
  }
 ],
 "metadata": {
  "kernelspec": {
   "display_name": "Python 3",
   "language": "python",
   "name": "python3"
  },
  "language_info": {
   "codemirror_mode": {
    "name": "ipython",
    "version": 3
   },
   "file_extension": ".py",
   "mimetype": "text/x-python",
   "name": "python",
   "nbconvert_exporter": "python",
   "pygments_lexer": "ipython3",
   "version": "3.7.7"
  }
 },
 "nbformat": 4,
 "nbformat_minor": 1
}