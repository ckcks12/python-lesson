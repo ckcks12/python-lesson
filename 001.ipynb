{
 "cells": [
  {
   "cell_type": "markdown",
   "source": [
    "# 파이썬 기초 001"
   ],
   "metadata": {
    "collapsed": false
   }
  },
  {
   "cell_type": "markdown",
   "metadata": {
    "pycharm": {
     "name": "#%% md\n"
    }
   },
   "source": [
    "### 다루는 내용\n",
    "- 출력\n",
    "- 사칙연산\n",
    "- 변수\n",
    "- 반복문\n",
    "- 랜덤 모듈\n",
    "- 입력"
   ]
  },
  {
   "cell_type": "markdown",
   "metadata": {
    "pycharm": {
     "name": "#%% md\n"
    }
   },
   "source": [
    "자고로 프로그램은 인사성이 밝아야 하는 법이죠.\n",
    "\n",
    "출력은 영어로 print"
   ]
  },
  {
   "cell_type": "code",
   "metadata": {
    "collapsed": true,
    "pycharm": {
     "name": "#%%\n"
    }
   },
   "source": [
    "print('hello')"
   ],
   "execution_count": 1,
   "outputs": [
    {
     "name": "stdout",
     "output_type": "stream",
     "text": [
      "hello\n"
     ]
    }
   ]
  },
  {
   "cell_type": "markdown",
   "metadata": {
    "pycharm": {
     "name": "#%% md\n"
    }
   },
   "source": [
    "가지고 싶은 물건의 금액이 얼마인가요? (만 단위로)"
   ]
  },
  {
   "cell_type": "code",
   "metadata": {
    "pycharm": {
     "name": "#%%\n"
    }
   },
   "source": [
    "print(270000) # 27억"
   ],
   "execution_count": 3,
   "outputs": [
    {
     "name": "stdout",
     "output_type": "stream",
     "text": [
      "270000\n"
     ]
    }
   ]
  },
  {
   "cell_type": "markdown",
   "metadata": {
    "pycharm": {
     "name": "#%% md\n"
    }
   },
   "source": [
    "\\# 을 앞에 붙히면 주석이 되어요.\n",
    "\n",
    "월급을 모으면 얼마나 걸릴지 계산해 볼까요?\n",
    "\n",
    "- \\+ : 더하기\n",
    "- \\- : 빼기\n",
    "- \\* : 곱하기\n",
    "- / : 나누기\n",
    "- \\*\\* : 제곱\n",
    "- % : 나머지"
   ]
  },
  {
   "cell_type": "code",
   "metadata": {
    "pycharm": {
     "name": "#%%\n"
    }
   },
   "source": [
    "print(400 + 400)\n",
    "print(400 - 150)\n",
    "print(400 * 2)\n",
    "print(400 - (400 / 10))"
   ],
   "execution_count": 7,
   "outputs": [
    {
     "name": "stdout",
     "output_type": "stream",
     "text": [
      "800\n",
      "250\n",
      "800\n",
      "360.0\n"
     ]
    }
   ]
  },
  {
   "cell_type": "markdown",
   "metadata": {
    "pycharm": {
     "name": "#%% md\n"
    }
   },
   "source": [
    "이렇게 소스를 짰는데 만약에 월급이 바뀐다면? 모든 숫자를 다 바꾸어 주어야 할까요?\n",
    "\n",
    "변수를 사용하면 해결할 수 있어요!\n",
    "\n",
    "![](https://i.imgur.com/0f1LRrb.png)"
   ]
  },
  {
   "cell_type": "code",
   "metadata": {
    "pycharm": {
     "name": "#%%\n"
    }
   },
   "source": [
    "pay = 400\n",
    "print(pay + pay)\n",
    "print(pay - 150)\n",
    "print(pay * 2)\n",
    "print(pay - (pay / 10))\n"
   ],
   "execution_count": 8,
   "outputs": [
    {
     "name": "stdout",
     "output_type": "stream",
     "text": [
      "800\n",
      "250\n",
      "800\n",
      "360.0\n"
     ]
    }
   ]
  },
  {
   "cell_type": "code",
   "execution_count": 9,
   "outputs": [
    {
     "name": "stdout",
     "output_type": "stream",
     "text": [
      "269200\n",
      "268400\n"
     ]
    }
   ],
   "source": [
    "price = 270000\n",
    "pay = 400\n",
    "price = price -pay\n",
    "price = price -pay\n",
    "print(price)\n",
    "price -=pay\n",
    "price -=pay\n",
    "print(price)"
   ],
   "metadata": {
    "collapsed": false,
    "pycharm": {
     "name": "#%%\n"
    }
   }
  },
  {
   "cell_type": "markdown",
   "source": [
    "흠.. 그런데 이렇게 몇 백줄을 더 써야 할까요..?\n",
    "\n",
    "그래서 프로그래머들은 반복문을 만들었어요~\n",
    "\n",
    "![](https://i.imgur.com/IgmXCwv.gif)"
   ],
   "metadata": {
    "collapsed": false,
    "pycharm": {
     "name": "#%% md\n"
    }
   }
  },
  {
   "cell_type": "code",
   "source": [
    "price = 270000\n",
    "pay = 400\n",
    "month = 0\n",
    "while price > 0:\n",
    "    price -= pay\n",
    "    month += 1\n",
    "print(month)"
   ],
   "metadata": {
    "collapsed": false,
    "pycharm": {
     "name": "#%%\n"
    }
   },
   "execution_count": 10,
   "outputs": [
    {
     "name": "stdout",
     "output_type": "stream",
     "text": [
      "675\n"
     ]
    }
   ]
  },
  {
   "cell_type": "markdown",
   "source": [
    "숫자 세는 반복문도 있어요\n",
    "\n",
    "![https://i.imgur.com/2uOPL8i.gif](https://i.imgur.com/2uOPL8i.gif)"
   ],
   "metadata": {
    "collapsed": false,
    "pycharm": {
     "name": "#%% md\n"
    }
   }
  },
  {
   "cell_type": "code",
   "source": [
    "price = 270000\n",
    "pay = 400\n",
    "for i in range(12 * 5):\n",
    "    price -= pay\n",
    "print(price)"
   ],
   "metadata": {
    "collapsed": false,
    "pycharm": {
     "name": "#%%\n"
    }
   },
   "execution_count": 11,
   "outputs": [
    {
     "name": "stdout",
     "output_type": "stream",
     "text": [
      "246000\n"
     ]
    }
   ]
  },
  {
   "cell_type": "markdown",
   "source": [
    "은행 이자를 계산해볼까요\n",
    "\n",
    "이자 2% 복리로 계산해볼께요\n",
    "\n",
    "account = 0\n",
    "interest = 0.02"
   ],
   "metadata": {
    "collapsed": false,
    "pycharm": {
     "name": "#%% md\n"
    }
   }
  },
  {
   "cell_type": "code",
   "source": [
    "account = 0\n",
    "pay = 400\n",
    "interest = 0.02\n",
    "for i in range(24):\n",
    "    account = account + pay\n",
    "    account = account + account * interest\n",
    "print(account)"
   ],
   "metadata": {
    "collapsed": false,
    "pycharm": {
     "name": "#%%\n"
    }
   },
   "execution_count": 12,
   "outputs": [
    {
     "name": "stdout",
     "output_type": "stream",
     "text": [
      "12412.119889294598\n"
     ]
    }
   ]
  },
  {
   "cell_type": "markdown",
   "source": [
    "안되겠네요 복권으로 한방을 노리죠.\n",
    "\n",
    "복권 = 랜덤한 확률 인데 어떻게 랜덤하게 값을 만들까요?\n",
    "\n",
    "![](https://imgur.com/a/39Ocg9M)\n",
    "\n",
    "이미 프로그래머들이 다 만들어 놨습니다."
   ],
   "metadata": {
    "collapsed": false,
    "pycharm": {
     "name": "#%% md\n"
    }
   }
  },
  {
   "cell_type": "code",
   "execution_count": 13,
   "outputs": [
    {
     "name": "stdout",
     "output_type": "stream",
     "text": [
      "28\n"
     ]
    }
   ],
   "source": [
    "import random\n",
    "p = random.randint(1, 100)\n",
    "print(p)"
   ],
   "metadata": {
    "collapsed": false,
    "pycharm": {
     "name": "#%%\n"
    }
   }
  },
  {
   "cell_type": "markdown",
   "source": [
    "그럼 이제 조건에 맞춰서 복권 로직을 짜볼게요\n",
    "\n",
    "- 1% : 10억원\n",
    "- 3% : 5억원\n",
    "- 10% : 1천만원"
   ],
   "metadata": {
    "collapsed": false,
    "pycharm": {
     "name": "#%% md\n"
    }
   }
  },
  {
   "cell_type": "code",
   "execution_count": 14,
   "outputs": [
    {
     "name": "stdout",
     "output_type": "stream",
     "text": [
      "1000\n"
     ]
    }
   ],
   "source": [
    "account = 0\n",
    "p = random.randint(1, 100)\n",
    "if p <= 1:\n",
    "    account += 100000\n",
    "elif p <= 3:\n",
    "    account += 50000\n",
    "elif p <= 10:\n",
    "    account += 1000\n",
    "else:\n",
    "    account += 0\n",
    "print(account)"
   ],
   "metadata": {
    "collapsed": false,
    "pycharm": {
     "name": "#%%\n"
    }
   }
  },
  {
   "cell_type": "markdown",
   "source": [
    "이제 실제로 계산을 해 볼까요?\n",
    "\n",
    "- 은행 없이 저축만 한다면?\n",
    "- 은행 2% 복리로?\n",
    "- 인생은 한방이다 복권?"
   ],
   "metadata": {
    "collapsed": false,
    "pycharm": {
     "name": "#%% md\n"
    }
   }
  },
  {
   "cell_type": "code",
   "execution_count": 1,
   "outputs": [
    {
     "name": "stdout",
     "output_type": "stream",
     "text": [
      "저축만 한다면 56.25 년이 걸립니다\n",
      "2% 복리로 38 년이 걸립니다\n",
      "이번 생엔 6.5 년이 걸리겠군요\n"
     ]
    }
   ],
   "source": [
    "price = 270000\n",
    "pay = 400\n",
    "account = 0\n",
    "month = 0\n",
    "\n",
    "while account < price:\n",
    "    account += pay\n",
    "    month += 1\n",
    "print('저축만 한다면', month / 12, '년이 걸립니다')\n",
    "\n",
    "account = 0\n",
    "year = 0\n",
    "salary = pay * 12\n",
    "interest = 0.02\n",
    "while account < price:\n",
    "    account += salary\n",
    "    account += account * interest\n",
    "    year += 1\n",
    "print('2% 복리로', year, '년이 걸립니다')\n",
    "\n",
    "import random\n",
    "account = 0\n",
    "month = 0\n",
    "while account < price:\n",
    "    p = random.randint(1, 100)\n",
    "    if p <= 1:\n",
    "        account += 100000\n",
    "    elif p <= 3:\n",
    "        account += 50000\n",
    "    elif p <= 10:\n",
    "        account += 1000\n",
    "    else:\n",
    "        account += 0\n",
    "    month += 1\n",
    "print('복권으로는', month/12, '년이 걸리겠군요')"
   ],
   "metadata": {
    "collapsed": false,
    "pycharm": {
     "name": "#%%\n"
    }
   }
  },
  {
   "cell_type": "markdown",
   "source": [
    "이 계산기를 주변 사람들에게 보여주고 싶어졌어요.\n",
    "\n",
    "매번 소스를 그때그때마다 수정해야할까요?\n",
    "\n",
    "사용자로부터 값을 입력받는 함수를 사용해볼까요?"
   ],
   "metadata": {
    "collapsed": false,
    "pycharm": {
     "name": "#%% md\n"
    }
   }
  },
  {
   "cell_type": "code",
   "execution_count": 19,
   "outputs": [
    {
     "name": "stdout",
     "output_type": "stream",
     "text": [
      "당신의 연봉은 400400400400400400400400400400400400 입니다\n"
     ]
    }
   ],
   "source": [
    "pay = input('월급을 입력해주세요 ')\n",
    "print('당신의 연봉은', pay * 12, '입니다')"
   ],
   "metadata": {
    "collapsed": false,
    "pycharm": {
     "name": "#%%\n"
    }
   }
  },
  {
   "cell_type": "markdown",
   "source": [
    "뭔가 이상하네요..?\n",
    "\n",
    "파이썬에서는 두가지가 있어요.\n",
    "\n",
    "숫자와 문자."
   ],
   "metadata": {
    "collapsed": false,
    "pycharm": {
     "name": "#%% md\n"
    }
   }
  },
  {
   "cell_type": "code",
   "execution_count": 20,
   "outputs": [
    {
     "name": "stdout",
     "output_type": "stream",
     "text": [
      "2\n",
      "11\n"
     ]
    }
   ],
   "source": [
    "print(1+1)\n",
    "print('1'+'1')"
   ],
   "metadata": {
    "collapsed": false,
    "pycharm": {
     "name": "#%%\n"
    }
   }
  },
  {
   "cell_type": "markdown",
   "source": [
    "이 두가지는 서로 상호작용할 수 없어요.\n",
    "\n",
    "그래서 변환시켜주어야해요."
   ],
   "metadata": {
    "collapsed": false,
    "pycharm": {
     "name": "#%% md\n"
    }
   }
  },
  {
   "cell_type": "code",
   "execution_count": 21,
   "outputs": [
    {
     "name": "stdout",
     "output_type": "stream",
     "text": [
      "2\n",
      "11\n"
     ]
    }
   ],
   "source": [
    "print(1+int('1'))\n",
    "print('1'+str(1))"
   ],
   "metadata": {
    "collapsed": false,
    "pycharm": {
     "name": "#%%\n"
    }
   }
  },
  {
   "cell_type": "markdown",
   "source": [
    "그럼 다시 아까 소스를 고쳐보면"
   ],
   "metadata": {
    "collapsed": false,
    "pycharm": {
     "name": "#%% md\n"
    }
   }
  },
  {
   "cell_type": "code",
   "execution_count": 22,
   "outputs": [
    {
     "name": "stdout",
     "output_type": "stream",
     "text": [
      "당신의 연봉은 4800 입니다\n"
     ]
    }
   ],
   "source": [
    "pay = input('월급을 입력해주세요 ')\n",
    "pay = int(pay)\n",
    "print('당신의 연봉은', pay * 12, '입니다')"
   ],
   "metadata": {
    "collapsed": false,
    "pycharm": {
     "name": "#%%\n"
    }
   }
  },
  {
   "cell_type": "markdown",
   "source": [
    "우리 계산기를 함수로 만들어보면 나중에 쓰기 편할꺼에요.\n",
    "\n",
    "함수가 만들어진건 정말 편하려고 만든 것 뿐이거든요."
   ],
   "metadata": {
    "collapsed": false,
    "pycharm": {
     "name": "#%% md\n"
    }
   }
  },
  {
   "cell_type": "code",
   "execution_count": 4,
   "outputs": [
    {
     "name": "stdout",
     "output_type": "stream",
     "text": [
      "hi\n",
      "hi\n",
      "hi\n"
     ]
    }
   ],
   "source": [
    "def hi():\n",
    "    print('hi')\n",
    "hi()\n",
    "hi()\n",
    "hi()"
   ],
   "metadata": {
    "collapsed": false,
    "pycharm": {
     "name": "#%%\n"
    }
   }
  },
  {
   "cell_type": "code",
   "execution_count": 23,
   "outputs": [],
   "source": [
    "def buy_lottery():\n",
    "    money = 0\n",
    "    p = random.randint(1, 100)\n",
    "    if p <= 1:\n",
    "        money += 100000\n",
    "    elif p <= 3:\n",
    "        money += 50000\n",
    "    elif p <= 10:\n",
    "        money += 1000\n",
    "    else:\n",
    "        money += 0\n",
    "    return money"
   ],
   "metadata": {
    "collapsed": false,
    "pycharm": {
     "name": "#%%\n"
    }
   }
  },
  {
   "cell_type": "code",
   "execution_count": 24,
   "outputs": [
    {
     "name": "stdout",
     "output_type": "stream",
     "text": [
      "0\n",
      "0\n",
      "0\n"
     ]
    }
   ],
   "source": [
    "print(buy_lottery())\n",
    "print(buy_lottery())\n",
    "print(buy_lottery())"
   ],
   "metadata": {
    "collapsed": false,
    "pycharm": {
     "name": "#%%\n"
    }
   }
  },
  {
   "cell_type": "markdown",
   "source": [
    "원하는 금액, 월급, 은행 이자 세 가지를 입력받아서\n",
    "\n",
    "몇년이 걸리는지 반환해주는 함수를 만들어볼까요?"
   ],
   "metadata": {
    "collapsed": false,
    "pycharm": {
     "name": "#%% md\n"
    }
   }
  },
  {
   "cell_type": "code",
   "execution_count": 5,
   "outputs": [],
   "source": [
    "def saving(price, pay, interest):\n",
    "    account = 0\n",
    "    year = 0\n",
    "    salary = pay * 12\n",
    "    while account < price:\n",
    "        account += salary\n",
    "        account += account * interest\n",
    "        year += 1\n",
    "    return year"
   ],
   "metadata": {
    "collapsed": false,
    "pycharm": {
     "name": "#%%\n"
    }
   }
  },
  {
   "cell_type": "code",
   "execution_count": 6,
   "outputs": [
    {
     "name": "stdout",
     "output_type": "stream",
     "text": [
      "38\n",
      "19\n",
      "50\n"
     ]
    }
   ],
   "source": [
    "print(saving(270000, 400, 0.02))\n",
    "print(saving(270000, 400, 0.1))\n",
    "print(saving(270000, 400, 0.005))"
   ],
   "metadata": {
    "collapsed": false,
    "pycharm": {
     "name": "#%%\n"
    }
   }
  }
 ],
 "metadata": {
  "kernelspec": {
   "display_name": "Python 3",
   "language": "python",
   "name": "python3"
  },
  "language_info": {
   "codemirror_mode": {
    "name": "ipython",
    "version": 3
   },
   "file_extension": ".py",
   "mimetype": "text/x-python",
   "name": "python",
   "nbconvert_exporter": "python",
   "pygments_lexer": "ipython3",
   "version": "3.7.7"
  }
 },
 "nbformat": 4,
 "nbformat_minor": 1
}